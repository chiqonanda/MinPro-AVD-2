{
  "nbformat": 4,
  "nbformat_minor": 0,
  "metadata": {
    "colab": {
      "provenance": []
    },
    "kernelspec": {
      "name": "python3",
      "display_name": "Python 3"
    },
    "language_info": {
      "name": "python"
    }
  },
  "cells": [
    {
      "cell_type": "markdown",
      "source": [
        "# **Business Understanding**"
      ],
      "metadata": {
        "id": "DCekq_257tfX"
      }
    },
    {
      "cell_type": "markdown",
      "source": [
        "## **Business Objective**\n",
        "\n",
        "Proyek ini bertujuan untuk menganalisis hal hal apa saja yang dapat memengaruhi gaji dari Profesi Data Science, seperti dari Pengalaman kerja, Besar perusahaan dan Jenis pekerjaan. Dengan data ini seseorang dapat menentukan berapa gaji yang bisa dia pakai sebagai patokan jika mendapat pertanyaan \"Berapa estimasi gaji yang kamu inginkan\" bukan hanya itu perusahaan juga mengetahui berapa gaji yang cocok untuk diterapkan kepada calon pekerja sesuai bidangnya.\n"
      ],
      "metadata": {
        "id": "ChZRdiFg9ymS"
      }
    },
    {
      "cell_type": "markdown",
      "source": [
        "## **Assess Situation**\n",
        "\n",
        "Pada saat ini Industri Data Science sedang berkembang sangat pesat hal yang mendasari analisis ini adalah seringnya terjadinya ketimpangan dari Gaji atau Pendapatan dari berdasarkan lokasi dan perusahaan contohnya gaji di Indonesia hanya 5 juta perbulan dan di amerika bisa 200 juta per bulannya. jadi analisis ini bisa membantu Data Science dan Perusahaan membuat keputusan yang tepat."
      ],
      "metadata": {
        "id": "wwWI9_ZqC_F2"
      }
    },
    {
      "cell_type": "markdown",
      "source": [
        "## **Data Mining Goals**\n",
        "\n",
        "Mengidentifikasi melalui Pengalaman Kerja, Bidang, Besar Perusahaan dan Gaji yang terdapat pada dataset dan dianalisis, bisa membantu untuk mengelompokan Berapa *Range* Gaji yang seharusnya didapatkan oleh Data Science.\n"
      ],
      "metadata": {
        "id": "LJYvjp6IFnYb"
      }
    },
    {
      "cell_type": "markdown",
      "source": [
        "# **Project Plan**\n",
        "\n",
        "Project ini akan dimulai dengan cara Menganalisis setiap data yang ada didataset dengan membuang data tidak lengkap, lalu setelah itu dikelompokkan setiap jenis dari bidangnya yang mencakup pengalaman kerja dan sejenisnya, lalu data dibuat berbentuk table yang bisa diubah sesuai dengan pengelompokan agaar dapat digunakan dengan mudah."
      ],
      "metadata": {
        "id": "XVsX-5DyHJIW"
      }
    }
  ]
}